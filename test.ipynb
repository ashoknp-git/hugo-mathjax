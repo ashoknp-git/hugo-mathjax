{
 "cells": [
  {
   "cell_type": "code",
   "execution_count": 9,
   "metadata": {},
   "outputs": [],
   "source": [
    "from fastcore.utils import *\n",
    "from ghapi import *\n",
    "import tarfile\n",
    "\n",
    "tag = 'v0.79.0'\n",
    "api = GhApi(owner='fastai', repo='hugo-mathjax', token=os.environ['GITHUB_TOKEN'])\n",
    "rel = api.repos.get_release_by_tag(tag)\n",
    "api.delete_release(rel)"
   ]
  },
  {
   "cell_type": "code",
   "execution_count": 1,
   "metadata": {},
   "outputs": [],
   "source": [
    "from fastcore.utils import *\n",
    "from ghapi import *\n",
    "import tarfile\n",
    "\n",
    "def rel_tag():\n",
    "    api = GhApi(owner='fastai', repo='hugo-mathjax', token=os.environ['GITHUB_TOKEN'])\n",
    "    tag = GhApi().repos.get_latest_release('gohugoio', repo='hugo').name\n",
    "    try: return api.repos.get_release_by_tag(tag)\n",
    "    except HTTP404NotFoundError: pass\n",
    "\n",
    "    rel = api.repos.create_release(tag, name=tag)\n",
    "    actions_output('tag', tag)\n",
    "\n",
    "rel_tag()"
   ]
  },
  {
   "cell_type": "code",
   "execution_count": 9,
   "metadata": {},
   "outputs": [
    {
     "data": {
      "text/markdown": [
       "- url: https://api.github.com/repos/fastai/hugo-mathjax/releases/assets/28923705\n",
       "- id: 28923705\n",
       "- node_id: MDEyOlJlbGVhc2VBc3NldDI4OTIzNzA1\n",
       "- name: hugo-linux.tgz\n",
       "- label: \n",
       "- uploader: \n",
       "  - login: jph00\n",
       "  - id: 346999\n",
       "  - node_id: MDQ6VXNlcjM0Njk5OQ==\n",
       "  - avatar_url: https://avatars1.githubusercontent.com/u/346999?v=4\n",
       "  - gravatar_id: \n",
       "  - url: https://api.github.com/users/jph00\n",
       "  - html_url: https://github.com/jph00\n",
       "  - followers_url: https://api.github.com/users/jph00/followers\n",
       "  - following_url: https://api.github.com/users/jph00/following{/other_user}\n",
       "  - gists_url: https://api.github.com/users/jph00/gists{/gist_id}\n",
       "  - starred_url: https://api.github.com/users/jph00/starred{/owner}{/repo}\n",
       "  - subscriptions_url: https://api.github.com/users/jph00/subscriptions\n",
       "  - organizations_url: https://api.github.com/users/jph00/orgs\n",
       "  - repos_url: https://api.github.com/users/jph00/repos\n",
       "  - events_url: https://api.github.com/users/jph00/events{/privacy}\n",
       "  - received_events_url: https://api.github.com/users/jph00/received_events\n",
       "  - type: User\n",
       "  - site_admin: False\n",
       "- content_type: application/x-tar\n",
       "- state: uploaded\n",
       "- size: 32669219\n",
       "- download_count: 0\n",
       "- created_at: 2020-11-30T01:29:43Z\n",
       "- updated_at: 2020-11-30T01:29:45Z\n",
       "- browser_download_url: https://github.com/fastai/hugo-mathjax/releases/download/v0.79.0/hugo-linux.tgz"
      ],
      "text/plain": [
       "- url: https://api.github.com/repos/fastai/hugo-mathjax/releases/assets/28923705\n",
       "- id: 28923705\n",
       "- node_id: MDEyOlJlbGVhc2VBc3NldDI4OTIzNzA1\n",
       "- name: hugo-linux.tgz\n",
       "- label: \n",
       "- uploader: \n",
       "  - login: jph00\n",
       "  - id: 346999\n",
       "  - node_id: MDQ6VXNlcjM0Njk5OQ==\n",
       "  - avatar_url: https://avatars1.githubusercontent.com/u/346999?v=4\n",
       "  - gravatar_id: \n",
       "  - url: https://api.github.com/users/jph00\n",
       "  - html_url: https://github.com/jph00\n",
       "  - followers_url: https://api.github.com/users/jph00/followers\n",
       "  - following_url: https://api.github.com/users/jph00/following{/other_user}\n",
       "  - gists_url: https://api.github.com/users/jph00/gists{/gist_id}\n",
       "  - starred_url: https://api.github.com/users/jph00/starred{/owner}{/repo}\n",
       "  - subscriptions_url: https://api.github.com/users/jph00/subscriptions\n",
       "  - organizations_url: https://api.github.com/users/jph00/orgs\n",
       "  - repos_url: https://api.github.com/users/jph00/repos\n",
       "  - events_url: https://api.github.com/users/jph00/events{/privacy}\n",
       "  - received_events_url: https://api.github.com/users/jph00/received_events\n",
       "  - type: User\n",
       "  - site_admin: False\n",
       "- content_type: application/x-tar\n",
       "- state: uploaded\n",
       "- size: 32669219\n",
       "- download_count: 0\n",
       "- created_at: 2020-11-30T01:29:43Z\n",
       "- updated_at: 2020-11-30T01:29:45Z\n",
       "- browser_download_url: https://github.com/fastai/hugo-mathjax/releases/download/v0.79.0/hugo-linux.tgz"
      ]
     },
     "execution_count": 9,
     "metadata": {},
     "output_type": "execute_result"
    }
   ],
   "source": [
    "api.upload_file(rel, 'hugo/hugo-linux.tgz')"
   ]
  },
  {
   "cell_type": "code",
   "execution_count": 9,
   "metadata": {},
   "outputs": [],
   "source": [
    "platforms = dict(\n",
    "    linux='linux',\n",
    "    linux2='linux',\n",
    "    win32='win',\n",
    "    darwin='mac'\n",
    ")\n",
    "platform = platforms[sys.platform]\n",
    "\n",
    "repo = 'hugo'\n",
    "rels = urljson(f'https://api.github.com/repos/gohugoio/{repo}/releases/latest')\n",
    "with urlopen(rels['tarball_url']) as f: untar_dir(f, repo)\n",
    "os.chdir(repo)\n",
    "run(f'patch -l -p1 -i ../hugo.patch')\n",
    "run('go build --tags extended')\n",
    "with tarfile.open(f'../hugo-{platform}.tgz', \"w:gz\") as tar: tar.add(\"hugo\")"
   ]
  },
  {
   "cell_type": "code",
   "execution_count": 42,
   "metadata": {},
   "outputs": [],
   "source": [
    "verstr = run(f'{Path(\"hugo\").absolute()} version')"
   ]
  },
  {
   "cell_type": "code",
   "execution_count": 43,
   "metadata": {},
   "outputs": [],
   "source": [
    "ver = re.findall(r'v(\\d+\\.\\d+\\.\\d+)', verstr)[0]"
   ]
  },
  {
   "cell_type": "code",
   "execution_count": 44,
   "metadata": {},
   "outputs": [
    {
     "data": {
      "text/plain": [
       "'0.79.0'"
      ]
     },
     "execution_count": 44,
     "metadata": {},
     "output_type": "execute_result"
    }
   ],
   "source": [
    "ver"
   ]
  },
  {
   "cell_type": "code",
   "execution_count": null,
   "metadata": {},
   "outputs": [],
   "source": [
    "api.create_release()"
   ]
  },
  {
   "cell_type": "code",
   "execution_count": null,
   "metadata": {},
   "outputs": [],
   "source": []
  }
 ],
 "metadata": {
  "kernelspec": {
   "display_name": "Python 3",
   "language": "python",
   "name": "python3"
  },
  "language_info": {
   "codemirror_mode": {
    "name": "ipython",
    "version": 3
   },
   "file_extension": ".py",
   "mimetype": "text/x-python",
   "name": "python",
   "nbconvert_exporter": "python",
   "pygments_lexer": "ipython3",
   "version": "3.7.7"
  },
  "toc": {
   "base_numbering": 1,
   "nav_menu": {},
   "number_sections": false,
   "sideBar": true,
   "skip_h1_title": true,
   "title_cell": "Table of Contents",
   "title_sidebar": "Contents",
   "toc_cell": false,
   "toc_position": {},
   "toc_section_display": true,
   "toc_window_display": false
  }
 },
 "nbformat": 4,
 "nbformat_minor": 4
}
